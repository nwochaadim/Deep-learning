{
 "cells": [
  {
   "cell_type": "markdown",
   "metadata": {},
   "source": [
    "## Image Processing of FashionMnist Dataset Using CNN Network"
   ]
  },
  {
   "cell_type": "code",
   "execution_count": 1,
   "metadata": {},
   "outputs": [
    {
     "name": "stderr",
     "output_type": "stream",
     "text": [
      "Using TensorFlow backend.\n"
     ]
    }
   ],
   "source": [
    "import keras\n",
    "from keras.datasets import fashion_mnist\n",
    "from keras.models import Sequential\n",
    "from keras.layers import Dense, Dropout, Flatten\n",
    "from keras.layers import Conv2D, MaxPooling2D\n",
    "from keras import backend as K"
   ]
  },
  {
   "cell_type": "code",
   "execution_count": 2,
   "metadata": {},
   "outputs": [],
   "source": [
    "# Suppress warning and informational messaages\n",
    "\n",
    "import os\n",
    "os.environ['TF_CPP_MIN_LOG_LEVEL'] = '2'"
   ]
  },
  {
   "cell_type": "code",
   "execution_count": 3,
   "metadata": {},
   "outputs": [],
   "source": [
    "num_classes = 10\n",
    "batch_size = 128\n",
    "epochs = 24\n",
    "\n",
    "img_rows, img_cols = 28, 28\n",
    "(x_train, y_train), (x_test, y_test) = fashion_mnist.load_data()"
   ]
  },
  {
   "cell_type": "code",
   "execution_count": 4,
   "metadata": {},
   "outputs": [],
   "source": [
    "x_train = x_train.reshape(x_train.shape[0], img_rows, img_cols, 1)\n",
    "x_test = x_test.reshape(x_test.shape[0], img_rows, img_cols, 1)\n",
    "input_shape = (img_rows, img_cols, 1)"
   ]
  },
  {
   "cell_type": "code",
   "execution_count": 5,
   "metadata": {},
   "outputs": [],
   "source": [
    "# Type convert and scale the test and training data\n",
    "x_train = x_train.astype('float32')\n",
    "x_test = x_test.astype('float32')\n",
    "x_train /= 255\n",
    "x_test /= 255"
   ]
  },
  {
   "cell_type": "code",
   "execution_count": 6,
   "metadata": {},
   "outputs": [],
   "source": [
    "y_train = keras.utils.to_categorical(y_train, num_classes)\n",
    "y_test = keras.utils.to_categorical(y_test, num_classes)"
   ]
  },
  {
   "cell_type": "code",
   "execution_count": 7,
   "metadata": {},
   "outputs": [
    {
     "name": "stdout",
     "output_type": "stream",
     "text": [
      "Model: \"sequential_1\"\n",
      "_________________________________________________________________\n",
      "Layer (type)                 Output Shape              Param #   \n",
      "=================================================================\n",
      "conv2d_1 (Conv2D)            (None, 26, 26, 32)        320       \n",
      "_________________________________________________________________\n",
      "max_pooling2d_1 (MaxPooling2 (None, 13, 13, 32)        0         \n",
      "_________________________________________________________________\n",
      "conv2d_2 (Conv2D)            (None, 11, 11, 32)        9248      \n",
      "_________________________________________________________________\n",
      "max_pooling2d_2 (MaxPooling2 (None, 5, 5, 32)          0         \n",
      "_________________________________________________________________\n",
      "flatten_1 (Flatten)          (None, 800)               0         \n",
      "_________________________________________________________________\n",
      "dense_1 (Dense)              (None, 120)               96120     \n",
      "_________________________________________________________________\n",
      "dropout_1 (Dropout)          (None, 120)               0         \n",
      "_________________________________________________________________\n",
      "dense_2 (Dense)              (None, 10)                1210      \n",
      "=================================================================\n",
      "Total params: 106,898\n",
      "Trainable params: 106,898\n",
      "Non-trainable params: 0\n",
      "_________________________________________________________________\n"
     ]
    }
   ],
   "source": [
    "# Define the model\n",
    "\n",
    "model = Sequential()\n",
    "model.add(Conv2D(32, kernel_size=(3,3), activation='relu', input_shape=input_shape))\n",
    "model.add(MaxPooling2D(pool_size=(2,2)))\n",
    "model.add(Conv2D(32, kernel_size=(3,3), activation='relu'))\n",
    "model.add(MaxPooling2D(pool_size=(2,2)))\n",
    "model.add(Flatten())\n",
    "model.add(Dense(120, activation='relu'))\n",
    "model.add(Dropout(0.5))\n",
    "model.add(Dense(num_classes, activation='softmax'))\n",
    "model.compile(loss='categorical_crossentropy', optimizer='adam', metrics=['accuracy'])\n",
    "model.summary()"
   ]
  },
  {
   "cell_type": "code",
   "execution_count": 8,
   "metadata": {},
   "outputs": [
    {
     "name": "stdout",
     "output_type": "stream",
     "text": [
      "Train on 60000 samples, validate on 10000 samples\n",
      "Epoch 1/24\n",
      "60000/60000 [==============================] - 23s 388us/step - loss: 0.6958 - accuracy: 0.7505 - val_loss: 0.4404 - val_accuracy: 0.8365\n",
      "Epoch 2/24\n",
      "60000/60000 [==============================] - 21s 355us/step - loss: 0.4462 - accuracy: 0.8410 - val_loss: 0.3790 - val_accuracy: 0.8579\n",
      "Epoch 3/24\n",
      "60000/60000 [==============================] - 21s 357us/step - loss: 0.3905 - accuracy: 0.8610 - val_loss: 0.3481 - val_accuracy: 0.8687\n",
      "Epoch 4/24\n",
      "60000/60000 [==============================] - 22s 361us/step - loss: 0.3581 - accuracy: 0.8714 - val_loss: 0.3205 - val_accuracy: 0.8830\n",
      "Epoch 5/24\n",
      "60000/60000 [==============================] - 21s 357us/step - loss: 0.3344 - accuracy: 0.8801 - val_loss: 0.3113 - val_accuracy: 0.8850\n",
      "Epoch 6/24\n",
      "60000/60000 [==============================] - 23s 380us/step - loss: 0.3157 - accuracy: 0.8862 - val_loss: 0.3077 - val_accuracy: 0.8866\n",
      "Epoch 7/24\n",
      "60000/60000 [==============================] - 21s 347us/step - loss: 0.3018 - accuracy: 0.8920 - val_loss: 0.2903 - val_accuracy: 0.8932\n",
      "Epoch 8/24\n",
      "60000/60000 [==============================] - 21s 347us/step - loss: 0.2894 - accuracy: 0.8941 - val_loss: 0.2823 - val_accuracy: 0.8964\n",
      "Epoch 9/24\n",
      "60000/60000 [==============================] - 21s 346us/step - loss: 0.2778 - accuracy: 0.8992 - val_loss: 0.2762 - val_accuracy: 0.8992\n",
      "Epoch 10/24\n",
      "60000/60000 [==============================] - 19s 324us/step - loss: 0.2652 - accuracy: 0.9033 - val_loss: 0.2731 - val_accuracy: 0.9038\n",
      "Epoch 11/24\n",
      "60000/60000 [==============================] - 20s 325us/step - loss: 0.2586 - accuracy: 0.9050 - val_loss: 0.2739 - val_accuracy: 0.9012\n",
      "Epoch 12/24\n",
      "60000/60000 [==============================] - 19s 324us/step - loss: 0.2478 - accuracy: 0.9087 - val_loss: 0.2736 - val_accuracy: 0.9034\n",
      "Epoch 13/24\n",
      "60000/60000 [==============================] - 20s 326us/step - loss: 0.2424 - accuracy: 0.9114 - val_loss: 0.2637 - val_accuracy: 0.9055\n",
      "Epoch 14/24\n",
      "60000/60000 [==============================] - 20s 326us/step - loss: 0.2357 - accuracy: 0.9137 - val_loss: 0.2598 - val_accuracy: 0.9058\n",
      "Epoch 15/24\n",
      "60000/60000 [==============================] - 20s 327us/step - loss: 0.2293 - accuracy: 0.9154 - val_loss: 0.2631 - val_accuracy: 0.9054\n",
      "Epoch 16/24\n",
      "60000/60000 [==============================] - 20s 328us/step - loss: 0.2238 - accuracy: 0.9157 - val_loss: 0.2567 - val_accuracy: 0.9079\n",
      "Epoch 17/24\n",
      "60000/60000 [==============================] - 19s 322us/step - loss: 0.2171 - accuracy: 0.9191 - val_loss: 0.2576 - val_accuracy: 0.9074\n",
      "Epoch 18/24\n",
      "60000/60000 [==============================] - 22s 360us/step - loss: 0.2115 - accuracy: 0.9222 - val_loss: 0.2618 - val_accuracy: 0.9073\n",
      "Epoch 19/24\n",
      "60000/60000 [==============================] - 22s 368us/step - loss: 0.2073 - accuracy: 0.9227 - val_loss: 0.2522 - val_accuracy: 0.9121\n",
      "Epoch 20/24\n",
      "60000/60000 [==============================] - 22s 366us/step - loss: 0.2025 - accuracy: 0.9230 - val_loss: 0.2515 - val_accuracy: 0.9124\n",
      "Epoch 21/24\n",
      "60000/60000 [==============================] - 23s 377us/step - loss: 0.1980 - accuracy: 0.9259 - val_loss: 0.2518 - val_accuracy: 0.9117\n",
      "Epoch 22/24\n",
      "60000/60000 [==============================] - 22s 375us/step - loss: 0.1932 - accuracy: 0.9278 - val_loss: 0.2506 - val_accuracy: 0.9123\n",
      "Epoch 23/24\n",
      "60000/60000 [==============================] - 22s 373us/step - loss: 0.1898 - accuracy: 0.9291 - val_loss: 0.2547 - val_accuracy: 0.9130\n",
      "Epoch 24/24\n",
      "60000/60000 [==============================] - 23s 386us/step - loss: 0.1860 - accuracy: 0.9294 - val_loss: 0.2514 - val_accuracy: 0.9139\n"
     ]
    }
   ],
   "source": [
    "hist = model.fit(x_train, y_train, batch_size=batch_size, epochs=epochs, verbose=1, validation_data=(x_test, y_test))"
   ]
  },
  {
   "cell_type": "code",
   "execution_count": 9,
   "metadata": {},
   "outputs": [
    {
     "name": "stdout",
     "output_type": "stream",
     "text": [
      "10000/10000 [==============================] - 1s 149us/step\n"
     ]
    }
   ],
   "source": [
    "score = model.evaluate(x_test, y_test)"
   ]
  },
  {
   "cell_type": "code",
   "execution_count": 10,
   "metadata": {},
   "outputs": [
    {
     "name": "stdout",
     "output_type": "stream",
     "text": [
      "Test Loss:  0.2514337729036808\n",
      "Test accuracy:  0.9139000177383423\n"
     ]
    }
   ],
   "source": [
    "print(\"Test Loss: \", score[0])\n",
    "print(\"Test accuracy: \", score[1])"
   ]
  }
 ],
 "metadata": {
  "kernelspec": {
   "display_name": "Python 3",
   "language": "python",
   "name": "python3"
  },
  "language_info": {
   "codemirror_mode": {
    "name": "ipython",
    "version": 3
   },
   "file_extension": ".py",
   "mimetype": "text/x-python",
   "name": "python",
   "nbconvert_exporter": "python",
   "pygments_lexer": "ipython3",
   "version": "3.7.3"
  }
 },
 "nbformat": 4,
 "nbformat_minor": 4
}
